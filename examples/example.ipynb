{
 "cells": [
  {
   "cell_type": "code",
   "execution_count": 9,
   "id": "f06d52e4",
   "metadata": {},
   "outputs": [
    {
     "name": "stdout",
     "output_type": "stream",
     "text": [
      "Cloning into 'pyopt'...\n",
      "remote: Enumerating objects: 157, done.\u001b[K\n",
      "remote: Counting objects: 100% (11/11), done.\u001b[K\n",
      "remote: Compressing objects: 100% (8/8), done.\u001b[K\n",
      "remote: Total 157 (delta 2), reused 6 (delta 2), pack-reused 146 (from 1)\u001b[K\n",
      "Receiving objects: 100% (157/157), 17.21 MiB | 16.43 MiB/s, done.\n",
      "Resolving deltas: 100% (64/64), done.\n",
      "Collecting git+https://github.com/jhell1717/pyopt.git@dimensions/2D\n",
      "  Cloning https://github.com/jhell1717/pyopt.git (to revision dimensions/2D) to /private/var/folders/g6/cp4y9yrj70746qd9t6j1yj2r0000gn/T/pip-req-build-h02ond06\n",
      "  Running command git clone --filter=blob:none --quiet https://github.com/jhell1717/pyopt.git /private/var/folders/g6/cp4y9yrj70746qd9t6j1yj2r0000gn/T/pip-req-build-h02ond06\n",
      "  Running command git checkout -b dimensions/2D --track origin/dimensions/2D\n",
      "  Switched to a new branch 'dimensions/2D'\n",
      "  branch 'dimensions/2D' set up to track 'origin/dimensions/2D'.\n",
      "  Resolved https://github.com/jhell1717/pyopt.git to commit ef33e40aba58b22fb9b76ea31e3fdfe611a9ce60\n",
      "  Installing build dependencies ... \u001b[?25ldone\n",
      "\u001b[?25h  Getting requirements to build wheel ... \u001b[?25ldone\n",
      "\u001b[?25h  Preparing metadata (pyproject.toml) ... \u001b[?25ldone\n",
      "\u001b[?25hRequirement already satisfied: torch in /Users/joshuahellewell/miniforge3/envs/VAE/lib/python3.13/site-packages (from pyopt==0.0.0) (2.5.1)\n",
      "Requirement already satisfied: botorch in /Users/joshuahellewell/miniforge3/envs/VAE/lib/python3.13/site-packages (from pyopt==0.0.0) (0.14.0)\n",
      "Requirement already satisfied: gpytorch in /Users/joshuahellewell/miniforge3/envs/VAE/lib/python3.13/site-packages (from pyopt==0.0.0) (1.14)\n",
      "Requirement already satisfied: typing_extensions in /Users/joshuahellewell/miniforge3/envs/VAE/lib/python3.13/site-packages (from botorch->pyopt==0.0.0) (4.12.2)\n",
      "Requirement already satisfied: pyre_extensions in /Users/joshuahellewell/miniforge3/envs/VAE/lib/python3.13/site-packages (from botorch->pyopt==0.0.0) (0.0.32)\n",
      "Requirement already satisfied: linear_operator==0.6 in /Users/joshuahellewell/miniforge3/envs/VAE/lib/python3.13/site-packages (from botorch->pyopt==0.0.0) (0.6)\n",
      "Requirement already satisfied: pyro-ppl>=1.8.4 in /Users/joshuahellewell/miniforge3/envs/VAE/lib/python3.13/site-packages (from botorch->pyopt==0.0.0) (1.9.1)\n",
      "Requirement already satisfied: scipy in /Users/joshuahellewell/miniforge3/envs/VAE/lib/python3.13/site-packages (from botorch->pyopt==0.0.0) (1.15.1)\n",
      "Requirement already satisfied: multipledispatch in /Users/joshuahellewell/miniforge3/envs/VAE/lib/python3.13/site-packages (from botorch->pyopt==0.0.0) (1.0.0)\n",
      "Requirement already satisfied: threadpoolctl in /Users/joshuahellewell/miniforge3/envs/VAE/lib/python3.13/site-packages (from botorch->pyopt==0.0.0) (3.5.0)\n",
      "Requirement already satisfied: jaxtyping in /Users/joshuahellewell/miniforge3/envs/VAE/lib/python3.13/site-packages (from gpytorch->pyopt==0.0.0) (0.3.2)\n",
      "Requirement already satisfied: mpmath<=1.3,>=0.19 in /Users/joshuahellewell/miniforge3/envs/VAE/lib/python3.13/site-packages (from gpytorch->pyopt==0.0.0) (1.3.0)\n",
      "Requirement already satisfied: scikit-learn in /Users/joshuahellewell/miniforge3/envs/VAE/lib/python3.13/site-packages (from gpytorch->pyopt==0.0.0) (1.6.1)\n",
      "Requirement already satisfied: filelock in /Users/joshuahellewell/miniforge3/envs/VAE/lib/python3.13/site-packages (from torch->pyopt==0.0.0) (3.13.1)\n",
      "Requirement already satisfied: networkx in /Users/joshuahellewell/miniforge3/envs/VAE/lib/python3.13/site-packages (from torch->pyopt==0.0.0) (3.4.2)\n",
      "Requirement already satisfied: jinja2 in /Users/joshuahellewell/miniforge3/envs/VAE/lib/python3.13/site-packages (from torch->pyopt==0.0.0) (3.1.5)\n",
      "Requirement already satisfied: fsspec in /Users/joshuahellewell/miniforge3/envs/VAE/lib/python3.13/site-packages (from torch->pyopt==0.0.0) (2024.6.1)\n",
      "Requirement already satisfied: setuptools in /Users/joshuahellewell/miniforge3/envs/VAE/lib/python3.13/site-packages (from torch->pyopt==0.0.0) (72.1.0)\n",
      "Requirement already satisfied: sympy!=1.13.2,>=1.13.1 in /Users/joshuahellewell/miniforge3/envs/VAE/lib/python3.13/site-packages (from torch->pyopt==0.0.0) (1.13.3)\n",
      "Requirement already satisfied: numpy>=1.7 in /Users/joshuahellewell/miniforge3/envs/VAE/lib/python3.13/site-packages (from pyro-ppl>=1.8.4->botorch->pyopt==0.0.0) (2.2.2)\n",
      "Requirement already satisfied: opt-einsum>=2.3.2 in /Users/joshuahellewell/miniforge3/envs/VAE/lib/python3.13/site-packages (from pyro-ppl>=1.8.4->botorch->pyopt==0.0.0) (3.4.0)\n",
      "Requirement already satisfied: pyro-api>=0.1.1 in /Users/joshuahellewell/miniforge3/envs/VAE/lib/python3.13/site-packages (from pyro-ppl>=1.8.4->botorch->pyopt==0.0.0) (0.1.2)\n",
      "Requirement already satisfied: tqdm>=4.36 in /Users/joshuahellewell/miniforge3/envs/VAE/lib/python3.13/site-packages (from pyro-ppl>=1.8.4->botorch->pyopt==0.0.0) (4.67.1)\n",
      "Requirement already satisfied: wadler-lindig>=0.1.3 in /Users/joshuahellewell/miniforge3/envs/VAE/lib/python3.13/site-packages (from jaxtyping->gpytorch->pyopt==0.0.0) (0.1.7)\n",
      "Requirement already satisfied: MarkupSafe>=2.0 in /Users/joshuahellewell/miniforge3/envs/VAE/lib/python3.13/site-packages (from jinja2->torch->pyopt==0.0.0) (3.0.2)\n",
      "Requirement already satisfied: typing-inspect in /Users/joshuahellewell/miniforge3/envs/VAE/lib/python3.13/site-packages (from pyre_extensions->botorch->pyopt==0.0.0) (0.9.0)\n",
      "Requirement already satisfied: joblib>=1.2.0 in /Users/joshuahellewell/miniforge3/envs/VAE/lib/python3.13/site-packages (from scikit-learn->gpytorch->pyopt==0.0.0) (1.4.2)\n",
      "Requirement already satisfied: mypy-extensions>=0.3.0 in /Users/joshuahellewell/miniforge3/envs/VAE/lib/python3.13/site-packages (from typing-inspect->pyre_extensions->botorch->pyopt==0.0.0) (1.1.0)\n"
     ]
    }
   ],
   "source": [
    "### For Colab Access:\n",
    "!git clone -b dimensions/2D https://github.com/jhell1717/pyopt.git\n",
    "!pip install git+https://github.com/jhell1717/pyopt.git@'dimensions/2D'"
   ]
  },
  {
   "cell_type": "markdown",
   "id": "cf320bb8",
   "metadata": {},
   "source": [
    "### Imports:\n",
    "* ```pyopt``` - Contains functionality to train a GP and perform bayesian optimisation."
   ]
  },
  {
   "cell_type": "code",
   "execution_count": null,
   "id": "601b08bf",
   "metadata": {},
   "outputs": [],
   "source": [
    "import pyopt"
   ]
  },
  {
   "cell_type": "markdown",
   "id": "4d6cd633",
   "metadata": {},
   "source": [
    "### Create Data\n",
    "* Create data object with ```Data```\n",
    "* Specify number of initial sampling points with ```num_points```\n",
    "* ```low_lim``` & ```up_lim``` define the bounds over which to perform function evaluations."
   ]
  },
  {
   "cell_type": "code",
   "execution_count": null,
   "id": "c4e8303c",
   "metadata": {},
   "outputs": [],
   "source": [
    "data = pyopt.Data(low_lim=-1,up_lim=1,num_points=5)"
   ]
  },
  {
   "cell_type": "markdown",
   "id": "bc757227",
   "metadata": {},
   "source": [
    "### Create GP:\n",
    "* ```GP``` class creates the GP object.\n",
    "* ```train()``` will fit the GP to the initial data.\n",
    "* ```plot_gp()``` allows visualisation of the initial function & samples."
   ]
  },
  {
   "cell_type": "code",
   "execution_count": null,
   "id": "a55d6965",
   "metadata": {},
   "outputs": [],
   "source": [
    "gp = pyopt.GP(data)\n",
    "gp.train_gp()"
   ]
  },
  {
   "cell_type": "code",
   "execution_count": null,
   "id": "26ebde60",
   "metadata": {},
   "outputs": [],
   "source": [
    "x,y,z,flat, = gp.plot_gp()"
   ]
  },
  {
   "cell_type": "markdown",
   "id": "2288c108",
   "metadata": {},
   "source": [
    "### Optimise Function\n",
    "* ```Optimiser``` object create the function optimiser.\n",
    "* ```optimise()``` will determine the next evaluation point based on the ```UpperConfidenceBound``` acquisition function.\n",
    "* The identified sample point and evaluated value will be added to the training data.\n",
    "* The GP is then retrained on this new data set.\n",
    "* The ```UpperConfidenceBound``` is then evaluated again.\n",
    "* This continues until evaluation budget is spent, or convergence of a maxima is realised."
   ]
  },
  {
   "cell_type": "code",
   "execution_count": null,
   "id": "3a0856d9",
   "metadata": {},
   "outputs": [],
   "source": [
    "for i in range(0,10):\n",
    "    optimiser = pyopt.Optimiser(gp,beta=1000)\n",
    "    optimiser.optimise()\n",
    "    gp.train_gp()\n",
    "    gp.plot_gp()"
   ]
  }
 ],
 "metadata": {
  "kernelspec": {
   "display_name": "VAE",
   "language": "python",
   "name": "python3"
  },
  "language_info": {
   "codemirror_mode": {
    "name": "ipython",
    "version": 3
   },
   "file_extension": ".py",
   "mimetype": "text/x-python",
   "name": "python",
   "nbconvert_exporter": "python",
   "pygments_lexer": "ipython3",
   "version": "3.13.1"
  }
 },
 "nbformat": 4,
 "nbformat_minor": 5
}
